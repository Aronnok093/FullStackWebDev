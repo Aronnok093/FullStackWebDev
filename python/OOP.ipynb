{
 "cells": [
  {
   "cell_type": "code",
   "execution_count": 1,
   "id": "e0fcf2fb",
   "metadata": {},
   "outputs": [
    {
     "name": "stdout",
     "output_type": "stream",
     "text": [
      "kitty\n",
      "cat\n",
      "kitty Makes sound.\n"
     ]
    }
   ],
   "source": [
    "class Animal:    #class\n",
    "    \n",
    "    def __init__(self,name,species): # constructor\n",
    "        self.name=name\n",
    "        self.species=species\n",
    "    def make_sound(self):        # Method / Action\n",
    "        print(f\"{self.name} Makes sound.\")\n",
    "        \n",
    "cat = Animal(\"kitty\",\"cat\")    #Object\n",
    "\n",
    "print(cat.name)\n",
    "print(cat.species)\n",
    "cat.make_sound()"
   ]
  },
  {
   "cell_type": "code",
   "execution_count": 5,
   "id": "74d09412",
   "metadata": {},
   "outputs": [
    {
     "name": "stdout",
     "output_type": "stream",
     "text": [
      "MY cat name is  kitty\n",
      "My Cat Breed is  Scottish Fold\n",
      "kitty makes sound like Meows!!\n"
     ]
    }
   ],
   "source": [
    "class Cat(Animal):\n",
    "    def __init__(self,name,breed):\n",
    "        super().__init__(name,\"cat\") # Call the constructor of the superclass\n",
    "        self.breed=breed\n",
    "    def make_sound(self):\n",
    "        print(f\"{self.name} makes sound like Meows!!\")\n",
    "\n",
    "myCat = Cat(\"kitty\",\"Scottish Fold\")\n",
    "\n",
    "print(\"MY cat name is \",myCat.name)\n",
    "print(\"My Cat Breed is \",myCat.breed)\n",
    "myCat.make_sound()"
   ]
  },
  {
   "cell_type": "code",
   "execution_count": null,
   "id": "6f7f2448",
   "metadata": {},
   "outputs": [],
   "source": []
  }
 ],
 "metadata": {
  "kernelspec": {
   "display_name": "Python 3 (ipykernel)",
   "language": "python",
   "name": "python3"
  },
  "language_info": {
   "codemirror_mode": {
    "name": "ipython",
    "version": 3
   },
   "file_extension": ".py",
   "mimetype": "text/x-python",
   "name": "python",
   "nbconvert_exporter": "python",
   "pygments_lexer": "ipython3",
   "version": "3.11.1"
  }
 },
 "nbformat": 4,
 "nbformat_minor": 5
}
